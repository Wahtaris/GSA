{
 "cells": [
  {
   "cell_type": "code",
   "execution_count": 44,
   "metadata": {},
   "outputs": [
    {
     "name": "stdout",
     "output_type": "stream",
     "text": [
      "Loading datasets...\n",
      "Datasets loaded.\n",
      "Aggregating park areas...\n",
      "Park areas aggregated.\n",
      "Dissolving neighborhoods by district and east/west...\n",
      "Dissolution complete.\n",
      "Joining park areas with district and neighborhood data...\n",
      "Join complete.\n",
      "Calculating park area density based on area...\n",
      "Area density calculation complete for districts and neighborhoods.\n",
      "Calculating park area density based on population...\n",
      "Population density calculation complete for districts and neighborhoods.\n",
      "Filling NA values...\n",
      "Calculating density for East and West Berlin...\n"
     ]
    },
    {
     "name": "stderr",
     "output_type": "stream",
     "text": [
      "C:\\Users\\aless\\AppData\\Local\\Temp\\ipykernel_25596\\1674949304.py:47: SettingWithCopyWarning: \n",
      "A value is trying to be set on a copy of a slice from a DataFrame\n",
      "\n",
      "See the caveats in the documentation: https://pandas.pydata.org/pandas-docs/stable/user_guide/indexing.html#returning-a-view-versus-a-copy\n",
      "  berlin_districts[['PAD_Dist', 'PAP_Dist']].fillna(0, inplace=True)\n",
      "C:\\Users\\aless\\AppData\\Local\\Temp\\ipykernel_25596\\1674949304.py:48: SettingWithCopyWarning: \n",
      "A value is trying to be set on a copy of a slice from a DataFrame\n",
      "\n",
      "See the caveats in the documentation: https://pandas.pydata.org/pandas-docs/stable/user_guide/indexing.html#returning-a-view-versus-a-copy\n",
      "  berlin_neighborhoods[['PAD_Nbh', 'PAP_Nbh']].fillna(0, inplace=True)\n",
      "C:\\Users\\aless\\AppData\\Local\\Temp\\ipykernel_25596\\1674949304.py:58: SettingWithCopyWarning: \n",
      "A value is trying to be set on a copy of a slice from a DataFrame\n",
      "\n",
      "See the caveats in the documentation: https://pandas.pydata.org/pandas-docs/stable/user_guide/indexing.html#returning-a-view-versus-a-copy\n",
      "  east_west_berlin[['PAD_EW', 'PAP_EW']].fillna(0, inplace=True)\n",
      "C:\\Users\\aless\\AppData\\Local\\Temp\\ipykernel_25596\\1674949304.py:65: UserWarning: Column names longer than 10 characters will be truncated when saved to ESRI Shapefile.\n",
      "  gdf.to_file(file_path)\n",
      "C:\\Users\\aless\\AppData\\Local\\Temp\\ipykernel_25596\\1674949304.py:65: UserWarning: Column names longer than 10 characters will be truncated when saved to ESRI Shapefile.\n",
      "  gdf.to_file(file_path)\n"
     ]
    },
    {
     "name": "stdout",
     "output_type": "stream",
     "text": [
      "East/West Berlin density calculation complete.\n",
      "Saving data to Zipped Shapefiles...\n",
      "Saved and zipped density_districts\n",
      "Saved and zipped density_neighborhoods\n",
      "Saved and zipped density_east_west\n",
      "All data has been saved to Zipped Shapefiles.\n"
     ]
    },
    {
     "name": "stderr",
     "output_type": "stream",
     "text": [
      "C:\\Users\\aless\\AppData\\Local\\Temp\\ipykernel_25596\\1674949304.py:65: UserWarning: Column names longer than 10 characters will be truncated when saved to ESRI Shapefile.\n",
      "  gdf.to_file(file_path)\n"
     ]
    }
   ],
   "source": [
    "import geopandas as gpd\n",
    "import shutil\n",
    "import os\n",
    "\n",
    "# Load datasets\n",
    "print(\"Loading datasets...\")\n",
    "parks = gpd.read_file(\"parks.gpkg\")\n",
    "berlin_neighborhoods = gpd.read_file(\"berlin.gpkg\")\n",
    "print(\"Datasets loaded.\")\n",
    "\n",
    "# Aggregate park areas by district and neighborhood\n",
    "print(\"Aggregating park areas...\")\n",
    "district_park_areas = parks.dissolve(by='District', aggfunc={'Area [m^2]': 'sum'}).rename(columns={'Area [m^2]': 'ParkAreaDst'})\n",
    "neighborhood_park_areas = parks.dissolve(by='Neighborhood', aggfunc={'Area [m^2]': 'sum'}).rename(columns={'Area [m^2]': 'ParkAreaNb'})\n",
    "print(\"Park areas aggregated.\")\n",
    "\n",
    "# Dissolve berlin_neighborhoods to get district-level and east/west level data\n",
    "print(\"Dissolving neighborhoods by district and east/west...\")\n",
    "berlin_districts = berlin_neighborhoods.dissolve(by='District', aggfunc={'Area Neighborhood [m^2]': 'sum', 'Population': 'sum'}).reset_index()\n",
    "east_west_berlin = berlin_neighborhoods.dissolve(by='Former Side', aggfunc={'Area Neighborhood [m^2]': 'sum', 'Population': 'sum'}).reset_index()\n",
    "print(\"Dissolution complete.\")\n",
    "\n",
    "# Join park areas with berlin district and neighborhood data\n",
    "print(\"Joining park areas with district and neighborhood data...\")\n",
    "berlin_districts = berlin_districts.merge(district_park_areas, on='District', how='left', suffixes=('', '_drop'))\n",
    "berlin_neighborhoods = berlin_neighborhoods.merge(neighborhood_park_areas, on='Neighborhood', how='left', suffixes=('', '_drop'))\n",
    "print(\"Join complete.\")\n",
    "\n",
    "# Drop unnecessary columns\n",
    "berlin_districts.drop(columns=[col for col in berlin_districts.columns if '_drop' in col], inplace=True)\n",
    "berlin_neighborhoods.drop(columns=[col for col in berlin_neighborhoods.columns if '_drop' in col], inplace=True)\n",
    "\n",
    "# Calculate park area density for each district and neighborhood based on area\n",
    "print(\"Calculating park area density based on area...\")\n",
    "berlin_districts['PAD_Dist'] = berlin_districts['ParkAreaDst'] / berlin_districts['Area Neighborhood [m^2]'] * 100\n",
    "berlin_neighborhoods['PAD_Nbh'] = berlin_neighborhoods['ParkAreaNb'] / berlin_neighborhoods['Area Neighborhood [m^2]'] * 100\n",
    "print(\"Area density calculation complete for districts and neighborhoods.\")\n",
    "\n",
    "# Calculate park area density for each district and neighborhood based on population\n",
    "print(\"Calculating park area density based on population...\")\n",
    "berlin_districts['PAP_Dist'] = berlin_districts['ParkAreaDst'] / berlin_districts['Population']\n",
    "berlin_neighborhoods['PAP_Nbh'] = berlin_neighborhoods['ParkAreaNb'] / berlin_neighborhoods['Population']\n",
    "print(\"Population density calculation complete for districts and neighborhoods.\")\n",
    "\n",
    "# Fill NA values with 0 for both density calculations\n",
    "print(\"Filling NA values...\")\n",
    "berlin_districts[['PAD_Dist', 'PAP_Dist']].fillna(0, inplace=True)\n",
    "berlin_neighborhoods[['PAD_Nbh', 'PAP_Nbh']].fillna(0, inplace=True)\n",
    "\n",
    "# Calculate density for East and West Berlin\n",
    "print(\"Calculating density for East and West Berlin...\")\n",
    "east_west_park_areas = parks.dissolve(by='Former Side', aggfunc={'Area [m^2]': 'sum'}).rename(columns={'Area [m^2]': 'ParkAreaEW'})\n",
    "east_west_berlin = east_west_berlin.merge(east_west_park_areas, on='Former Side', how='left', suffixes=('', '_drop'))\n",
    "east_west_berlin.drop(columns=[col for col in east_west_berlin.columns if '_drop' in col], inplace=True)\n",
    "east_west_berlin['PAD_EW'] = east_west_berlin['ParkAreaEW'] / east_west_berlin['Area Neighborhood [m^2]'] * 100\n",
    "east_west_berlin['PAP_EW'] = east_west_berlin['ParkAreaEW'] / east_west_berlin['Population']\n",
    "\n",
    "east_west_berlin[['PAD_EW', 'PAP_EW']].fillna(0, inplace=True)\n",
    "print(\"East/West Berlin density calculation complete.\")\n",
    "\n",
    "# Save data to Shapefiles and then zip them\n",
    "def save_and_zip(gdf, filename):\n",
    "    # Save as Shapefile\n",
    "    file_path = f\"./{filename}\"\n",
    "    gdf.to_file(file_path)\n",
    "    # Zip the folder\n",
    "    shutil.make_archive(file_path, 'zip', file_path)\n",
    "    # Remove the original Shapefile directory\n",
    "    shutil.rmtree(file_path)\n",
    "    print(f\"Saved and zipped {filename}\")\n",
    "\n",
    "print(\"Saving data to Zipped Shapefiles...\")\n",
    "save_and_zip(berlin_districts, \"density_districts\")\n",
    "save_and_zip(berlin_neighborhoods, \"density_neighborhoods\")\n",
    "save_and_zip(east_west_berlin, \"density_east_west\")\n",
    "print(\"All data has been saved to Zipped Shapefiles.\")"
   ]
  }
 ],
 "metadata": {
  "kernelspec": {
   "display_name": "geo876",
   "language": "python",
   "name": "python3"
  },
  "language_info": {
   "codemirror_mode": {
    "name": "ipython",
    "version": 3
   },
   "file_extension": ".py",
   "mimetype": "text/x-python",
   "name": "python",
   "nbconvert_exporter": "python",
   "pygments_lexer": "ipython3",
   "version": "3.11.8"
  }
 },
 "nbformat": 4,
 "nbformat_minor": 2
}
